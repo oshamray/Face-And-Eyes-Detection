{
  "nbformat": 4,
  "nbformat_minor": 0,
  "metadata": {
    "colab": {
      "name": "Face_Detection.ipynb",
      "provenance": []
    },
    "kernelspec": {
      "name": "python3",
      "display_name": "Python 3"
    }
  },
  "cells": [
    {
      "cell_type": "code",
      "metadata": {
        "id": "yEaoMnMuAYtF",
        "colab_type": "code",
        "colab": {}
      },
      "source": [
        "import cv2\n",
        "import matplotlib.pyplot as plt"
      ],
      "execution_count": 1,
      "outputs": []
    },
    {
      "cell_type": "code",
      "metadata": {
        "id": "40JYEValBb3I",
        "colab_type": "code",
        "colab": {}
      },
      "source": [
        "# The Haar Classifiers\n",
        "face_cascade = cv2.CascadeClassifier('haarcascade_frontalface_default.xml')\n",
        "eye_cascade = cv2.CascadeClassifier('haarcascade_eye.xml')"
      ],
      "execution_count": 2,
      "outputs": []
    },
    {
      "cell_type": "code",
      "metadata": {
        "id": "dfRrik0JCDU8",
        "colab_type": "code",
        "colab": {}
      },
      "source": [
        "# read image and put to img\n",
        "img = cv2.imread('ron.jpg')\n",
        "faces = face_cascade.detectMultiScale(img,1.3,5)\n"
      ],
      "execution_count": 3,
      "outputs": []
    },
    {
      "cell_type": "code",
      "metadata": {
        "id": "330TOycTDGaC",
        "colab_type": "code",
        "colab": {
          "base_uri": "https://localhost:8080/",
          "height": 67
        },
        "outputId": "c71fab6d-c8fa-4063-a955-71519557bf12"
      },
      "source": [
        "#Print the number of faces found\n",
        "print('Faces found: ', len(faces))\n",
        "print('The image height, width and channel: ',img.shape)\n",
        "print('The coordinates of each face detected: ',faces)"
      ],
      "execution_count": 4,
      "outputs": [
        {
          "output_type": "stream",
          "text": [
            "Faces found:  1\n",
            "The image height, width and channel:  (675, 1200, 3)\n",
            "The coordinates of each face detected:  [[486  89 196 196]]\n"
          ],
          "name": "stdout"
        }
      ]
    },
    {
      "cell_type": "code",
      "metadata": {
        "id": "6yKpl7NXD_sz",
        "colab_type": "code",
        "colab": {}
      },
      "source": [
        "#draw rect over the faces\n",
        "for(x,y,w,h) in faces:\n",
        "  cv2.rectangle(img,(x,y),(x+w, y+h),(0,255,0), 2)\n",
        "  roi_face = img[y:y+h, x:x+w]\n",
        "  eyes = eye_cascade.detectMultiScale(roi_face,1.3,5)\n",
        "  for(ex,ey,ew,eh) in eyes:\n",
        "    cv2.rectangle(roi_face,(ex,ey),(ex+ew, ey+eh),(255,0,0),2)\n",
        "imgplot = plt.imshow(img)"
      ],
      "execution_count": 6,
      "outputs": []
    }
  ]
}